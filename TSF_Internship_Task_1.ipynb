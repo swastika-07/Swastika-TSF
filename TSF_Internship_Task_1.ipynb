{
  "nbformat": 4,
  "nbformat_minor": 0,
  "metadata": {
    "colab": {
      "provenance": [],
      "authorship_tag": "ABX9TyMn1v7mEvBYVNCwBlAZ/U/2",
      "include_colab_link": true
    },
    "kernelspec": {
      "name": "python3",
      "display_name": "Python 3"
    },
    "language_info": {
      "name": "python"
    }
  },
  "cells": [
    {
      "cell_type": "markdown",
      "metadata": {
        "id": "view-in-github",
        "colab_type": "text"
      },
      "source": [
        "<a href=\"https://colab.research.google.com/github/swastika-07/TSF/blob/main/TSF_Internship_Task_1.ipynb\" target=\"_parent\"><img src=\"https://colab.research.google.com/assets/colab-badge.svg\" alt=\"Open In Colab\"/></a>"
      ]
    },
    {
      "cell_type": "markdown",
      "source": [
        "# Author : Swastika Nath"
      ],
      "metadata": {
        "id": "DUNiB4i9UTN7"
      }
    },
    {
      "cell_type": "markdown",
      "source": [
        "# Data Science & Business Analytics Internship"
      ],
      "metadata": {
        "id": "F1_5bR8lUmH-"
      }
    },
    {
      "cell_type": "markdown",
      "source": [
        "## GRIP @ The Sparks Foundation"
      ],
      "metadata": {
        "id": "q13l-bv9U1ZT"
      }
    },
    {
      "cell_type": "markdown",
      "source": [
        "## Batch : October 2023"
      ],
      "metadata": {
        "id": "S8SBdd_IU1WK"
      }
    },
    {
      "cell_type": "markdown",
      "source": [
        "**Task 1 : Prediction using Supervised Machine Learning**"
      ],
      "metadata": {
        "id": "f_QBiCD0VQyj"
      }
    },
    {
      "cell_type": "markdown",
      "source": [
        "In this regression task I tried to predict the percentage of marks that a student is expected to score based upon the number of hurs they studied.         \n",
        "This is a simple linear regression task as it involves just two variables."
      ],
      "metadata": {
        "id": "wMTzXaJkVhiv"
      }
    },
    {
      "cell_type": "markdown",
      "source": [
        "Step 1 : Importing the required python libraries"
      ],
      "metadata": {
        "id": "GedShBGVVxO1"
      }
    },
    {
      "cell_type": "code",
      "source": [
        "#importing all the libraries required in this notebook\n",
        "import pandas as pd\n",
        "import numpy as np\n",
        "import matplotlib.pyplot as plt"
      ],
      "metadata": {
        "id": "QDNrCJOoVyDq"
      },
      "execution_count": 4,
      "outputs": []
    },
    {
      "cell_type": "markdown",
      "source": [
        "Step 2 : Reading the data from the source"
      ],
      "metadata": {
        "id": "9U3Mmmt5WQL7"
      }
    },
    {
      "cell_type": "code",
      "source": [
        "#reading the data from remote link\n",
        "url = \"http://bit.ly/w-data\"\n",
        "students_df = pd.read_csv(url)\n",
        "print(students_df)"
      ],
      "metadata": {
        "colab": {
          "base_uri": "https://localhost:8080/"
        },
        "id": "R7tm1ZFkWXdY",
        "outputId": "df490a9c-d5d8-4087-e28c-cda8ed6c1491"
      },
      "execution_count": 5,
      "outputs": [
        {
          "output_type": "stream",
          "name": "stdout",
          "text": [
            "    Hours  Scores\n",
            "0     2.5      21\n",
            "1     5.1      47\n",
            "2     3.2      27\n",
            "3     8.5      75\n",
            "4     3.5      30\n",
            "5     1.5      20\n",
            "6     9.2      88\n",
            "7     5.5      60\n",
            "8     8.3      81\n",
            "9     2.7      25\n",
            "10    7.7      85\n",
            "11    5.9      62\n",
            "12    4.5      41\n",
            "13    3.3      42\n",
            "14    1.1      17\n",
            "15    8.9      95\n",
            "16    2.5      30\n",
            "17    1.9      24\n",
            "18    6.1      67\n",
            "19    7.4      69\n",
            "20    2.7      30\n",
            "21    4.8      54\n",
            "22    3.8      35\n",
            "23    6.9      76\n",
            "24    7.8      86\n"
          ]
        }
      ]
    },
    {
      "cell_type": "markdown",
      "source": [
        "Step 3 : Data Exploration"
      ],
      "metadata": {
        "id": "NeRgWzEyX797"
      }
    },
    {
      "cell_type": "code",
      "source": [
        "students_df.shape"
      ],
      "metadata": {
        "colab": {
          "base_uri": "https://localhost:8080/"
        },
        "id": "PtCM4NhkYCPb",
        "outputId": "55fe9e81-1fdd-4551-cf8b-31efc95d12bc"
      },
      "execution_count": 6,
      "outputs": [
        {
          "output_type": "execute_result",
          "data": {
            "text/plain": [
              "(25, 2)"
            ]
          },
          "metadata": {},
          "execution_count": 6
        }
      ]
    },
    {
      "cell_type": "code",
      "source": [
        "students_df.info()"
      ],
      "metadata": {
        "colab": {
          "base_uri": "https://localhost:8080/"
        },
        "id": "_a_TLtvcYkRx",
        "outputId": "098599ab-4983-4b77-a38c-30b248b580ae"
      },
      "execution_count": 7,
      "outputs": [
        {
          "output_type": "stream",
          "name": "stdout",
          "text": [
            "<class 'pandas.core.frame.DataFrame'>\n",
            "RangeIndex: 25 entries, 0 to 24\n",
            "Data columns (total 2 columns):\n",
            " #   Column  Non-Null Count  Dtype  \n",
            "---  ------  --------------  -----  \n",
            " 0   Hours   25 non-null     float64\n",
            " 1   Scores  25 non-null     int64  \n",
            "dtypes: float64(1), int64(1)\n",
            "memory usage: 528.0 bytes\n"
          ]
        }
      ]
    },
    {
      "cell_type": "code",
      "source": [
        "students_df.describe()"
      ],
      "metadata": {
        "colab": {
          "base_uri": "https://localhost:8080/",
          "height": 300
        },
        "id": "NLy6GooqYrsr",
        "outputId": "61e2043f-1879-4c9c-aef9-489ffafe9579"
      },
      "execution_count": 8,
      "outputs": [
        {
          "output_type": "execute_result",
          "data": {
            "text/plain": [
              "           Hours     Scores\n",
              "count  25.000000  25.000000\n",
              "mean    5.012000  51.480000\n",
              "std     2.525094  25.286887\n",
              "min     1.100000  17.000000\n",
              "25%     2.700000  30.000000\n",
              "50%     4.800000  47.000000\n",
              "75%     7.400000  75.000000\n",
              "max     9.200000  95.000000"
            ],
            "text/html": [
              "\n",
              "  <div id=\"df-34e05250-011f-4ccf-87a3-be55ed35feb5\" class=\"colab-df-container\">\n",
              "    <div>\n",
              "<style scoped>\n",
              "    .dataframe tbody tr th:only-of-type {\n",
              "        vertical-align: middle;\n",
              "    }\n",
              "\n",
              "    .dataframe tbody tr th {\n",
              "        vertical-align: top;\n",
              "    }\n",
              "\n",
              "    .dataframe thead th {\n",
              "        text-align: right;\n",
              "    }\n",
              "</style>\n",
              "<table border=\"1\" class=\"dataframe\">\n",
              "  <thead>\n",
              "    <tr style=\"text-align: right;\">\n",
              "      <th></th>\n",
              "      <th>Hours</th>\n",
              "      <th>Scores</th>\n",
              "    </tr>\n",
              "  </thead>\n",
              "  <tbody>\n",
              "    <tr>\n",
              "      <th>count</th>\n",
              "      <td>25.000000</td>\n",
              "      <td>25.000000</td>\n",
              "    </tr>\n",
              "    <tr>\n",
              "      <th>mean</th>\n",
              "      <td>5.012000</td>\n",
              "      <td>51.480000</td>\n",
              "    </tr>\n",
              "    <tr>\n",
              "      <th>std</th>\n",
              "      <td>2.525094</td>\n",
              "      <td>25.286887</td>\n",
              "    </tr>\n",
              "    <tr>\n",
              "      <th>min</th>\n",
              "      <td>1.100000</td>\n",
              "      <td>17.000000</td>\n",
              "    </tr>\n",
              "    <tr>\n",
              "      <th>25%</th>\n",
              "      <td>2.700000</td>\n",
              "      <td>30.000000</td>\n",
              "    </tr>\n",
              "    <tr>\n",
              "      <th>50%</th>\n",
              "      <td>4.800000</td>\n",
              "      <td>47.000000</td>\n",
              "    </tr>\n",
              "    <tr>\n",
              "      <th>75%</th>\n",
              "      <td>7.400000</td>\n",
              "      <td>75.000000</td>\n",
              "    </tr>\n",
              "    <tr>\n",
              "      <th>max</th>\n",
              "      <td>9.200000</td>\n",
              "      <td>95.000000</td>\n",
              "    </tr>\n",
              "  </tbody>\n",
              "</table>\n",
              "</div>\n",
              "    <div class=\"colab-df-buttons\">\n",
              "\n",
              "  <div class=\"colab-df-container\">\n",
              "    <button class=\"colab-df-convert\" onclick=\"convertToInteractive('df-34e05250-011f-4ccf-87a3-be55ed35feb5')\"\n",
              "            title=\"Convert this dataframe to an interactive table.\"\n",
              "            style=\"display:none;\">\n",
              "\n",
              "  <svg xmlns=\"http://www.w3.org/2000/svg\" height=\"24px\" viewBox=\"0 -960 960 960\">\n",
              "    <path d=\"M120-120v-720h720v720H120Zm60-500h600v-160H180v160Zm220 220h160v-160H400v160Zm0 220h160v-160H400v160ZM180-400h160v-160H180v160Zm440 0h160v-160H620v160ZM180-180h160v-160H180v160Zm440 0h160v-160H620v160Z\"/>\n",
              "  </svg>\n",
              "    </button>\n",
              "\n",
              "  <style>\n",
              "    .colab-df-container {\n",
              "      display:flex;\n",
              "      gap: 12px;\n",
              "    }\n",
              "\n",
              "    .colab-df-convert {\n",
              "      background-color: #E8F0FE;\n",
              "      border: none;\n",
              "      border-radius: 50%;\n",
              "      cursor: pointer;\n",
              "      display: none;\n",
              "      fill: #1967D2;\n",
              "      height: 32px;\n",
              "      padding: 0 0 0 0;\n",
              "      width: 32px;\n",
              "    }\n",
              "\n",
              "    .colab-df-convert:hover {\n",
              "      background-color: #E2EBFA;\n",
              "      box-shadow: 0px 1px 2px rgba(60, 64, 67, 0.3), 0px 1px 3px 1px rgba(60, 64, 67, 0.15);\n",
              "      fill: #174EA6;\n",
              "    }\n",
              "\n",
              "    .colab-df-buttons div {\n",
              "      margin-bottom: 4px;\n",
              "    }\n",
              "\n",
              "    [theme=dark] .colab-df-convert {\n",
              "      background-color: #3B4455;\n",
              "      fill: #D2E3FC;\n",
              "    }\n",
              "\n",
              "    [theme=dark] .colab-df-convert:hover {\n",
              "      background-color: #434B5C;\n",
              "      box-shadow: 0px 1px 3px 1px rgba(0, 0, 0, 0.15);\n",
              "      filter: drop-shadow(0px 1px 2px rgba(0, 0, 0, 0.3));\n",
              "      fill: #FFFFFF;\n",
              "    }\n",
              "  </style>\n",
              "\n",
              "    <script>\n",
              "      const buttonEl =\n",
              "        document.querySelector('#df-34e05250-011f-4ccf-87a3-be55ed35feb5 button.colab-df-convert');\n",
              "      buttonEl.style.display =\n",
              "        google.colab.kernel.accessAllowed ? 'block' : 'none';\n",
              "\n",
              "      async function convertToInteractive(key) {\n",
              "        const element = document.querySelector('#df-34e05250-011f-4ccf-87a3-be55ed35feb5');\n",
              "        const dataTable =\n",
              "          await google.colab.kernel.invokeFunction('convertToInteractive',\n",
              "                                                    [key], {});\n",
              "        if (!dataTable) return;\n",
              "\n",
              "        const docLinkHtml = 'Like what you see? Visit the ' +\n",
              "          '<a target=\"_blank\" href=https://colab.research.google.com/notebooks/data_table.ipynb>data table notebook</a>'\n",
              "          + ' to learn more about interactive tables.';\n",
              "        element.innerHTML = '';\n",
              "        dataTable['output_type'] = 'display_data';\n",
              "        await google.colab.output.renderOutput(dataTable, element);\n",
              "        const docLink = document.createElement('div');\n",
              "        docLink.innerHTML = docLinkHtml;\n",
              "        element.appendChild(docLink);\n",
              "      }\n",
              "    </script>\n",
              "  </div>\n",
              "\n",
              "\n",
              "<div id=\"df-f90c11f4-2f2e-4fcb-949d-64af1973f776\">\n",
              "  <button class=\"colab-df-quickchart\" onclick=\"quickchart('df-f90c11f4-2f2e-4fcb-949d-64af1973f776')\"\n",
              "            title=\"Suggest charts.\"\n",
              "            style=\"display:none;\">\n",
              "\n",
              "<svg xmlns=\"http://www.w3.org/2000/svg\" height=\"24px\"viewBox=\"0 0 24 24\"\n",
              "     width=\"24px\">\n",
              "    <g>\n",
              "        <path d=\"M19 3H5c-1.1 0-2 .9-2 2v14c0 1.1.9 2 2 2h14c1.1 0 2-.9 2-2V5c0-1.1-.9-2-2-2zM9 17H7v-7h2v7zm4 0h-2V7h2v10zm4 0h-2v-4h2v4z\"/>\n",
              "    </g>\n",
              "</svg>\n",
              "  </button>\n",
              "\n",
              "<style>\n",
              "  .colab-df-quickchart {\n",
              "      --bg-color: #E8F0FE;\n",
              "      --fill-color: #1967D2;\n",
              "      --hover-bg-color: #E2EBFA;\n",
              "      --hover-fill-color: #174EA6;\n",
              "      --disabled-fill-color: #AAA;\n",
              "      --disabled-bg-color: #DDD;\n",
              "  }\n",
              "\n",
              "  [theme=dark] .colab-df-quickchart {\n",
              "      --bg-color: #3B4455;\n",
              "      --fill-color: #D2E3FC;\n",
              "      --hover-bg-color: #434B5C;\n",
              "      --hover-fill-color: #FFFFFF;\n",
              "      --disabled-bg-color: #3B4455;\n",
              "      --disabled-fill-color: #666;\n",
              "  }\n",
              "\n",
              "  .colab-df-quickchart {\n",
              "    background-color: var(--bg-color);\n",
              "    border: none;\n",
              "    border-radius: 50%;\n",
              "    cursor: pointer;\n",
              "    display: none;\n",
              "    fill: var(--fill-color);\n",
              "    height: 32px;\n",
              "    padding: 0;\n",
              "    width: 32px;\n",
              "  }\n",
              "\n",
              "  .colab-df-quickchart:hover {\n",
              "    background-color: var(--hover-bg-color);\n",
              "    box-shadow: 0 1px 2px rgba(60, 64, 67, 0.3), 0 1px 3px 1px rgba(60, 64, 67, 0.15);\n",
              "    fill: var(--button-hover-fill-color);\n",
              "  }\n",
              "\n",
              "  .colab-df-quickchart-complete:disabled,\n",
              "  .colab-df-quickchart-complete:disabled:hover {\n",
              "    background-color: var(--disabled-bg-color);\n",
              "    fill: var(--disabled-fill-color);\n",
              "    box-shadow: none;\n",
              "  }\n",
              "\n",
              "  .colab-df-spinner {\n",
              "    border: 2px solid var(--fill-color);\n",
              "    border-color: transparent;\n",
              "    border-bottom-color: var(--fill-color);\n",
              "    animation:\n",
              "      spin 1s steps(1) infinite;\n",
              "  }\n",
              "\n",
              "  @keyframes spin {\n",
              "    0% {\n",
              "      border-color: transparent;\n",
              "      border-bottom-color: var(--fill-color);\n",
              "      border-left-color: var(--fill-color);\n",
              "    }\n",
              "    20% {\n",
              "      border-color: transparent;\n",
              "      border-left-color: var(--fill-color);\n",
              "      border-top-color: var(--fill-color);\n",
              "    }\n",
              "    30% {\n",
              "      border-color: transparent;\n",
              "      border-left-color: var(--fill-color);\n",
              "      border-top-color: var(--fill-color);\n",
              "      border-right-color: var(--fill-color);\n",
              "    }\n",
              "    40% {\n",
              "      border-color: transparent;\n",
              "      border-right-color: var(--fill-color);\n",
              "      border-top-color: var(--fill-color);\n",
              "    }\n",
              "    60% {\n",
              "      border-color: transparent;\n",
              "      border-right-color: var(--fill-color);\n",
              "    }\n",
              "    80% {\n",
              "      border-color: transparent;\n",
              "      border-right-color: var(--fill-color);\n",
              "      border-bottom-color: var(--fill-color);\n",
              "    }\n",
              "    90% {\n",
              "      border-color: transparent;\n",
              "      border-bottom-color: var(--fill-color);\n",
              "    }\n",
              "  }\n",
              "</style>\n",
              "\n",
              "  <script>\n",
              "    async function quickchart(key) {\n",
              "      const quickchartButtonEl =\n",
              "        document.querySelector('#' + key + ' button');\n",
              "      quickchartButtonEl.disabled = true;  // To prevent multiple clicks.\n",
              "      quickchartButtonEl.classList.add('colab-df-spinner');\n",
              "      try {\n",
              "        const charts = await google.colab.kernel.invokeFunction(\n",
              "            'suggestCharts', [key], {});\n",
              "      } catch (error) {\n",
              "        console.error('Error during call to suggestCharts:', error);\n",
              "      }\n",
              "      quickchartButtonEl.classList.remove('colab-df-spinner');\n",
              "      quickchartButtonEl.classList.add('colab-df-quickchart-complete');\n",
              "    }\n",
              "    (() => {\n",
              "      let quickchartButtonEl =\n",
              "        document.querySelector('#df-f90c11f4-2f2e-4fcb-949d-64af1973f776 button');\n",
              "      quickchartButtonEl.style.display =\n",
              "        google.colab.kernel.accessAllowed ? 'block' : 'none';\n",
              "    })();\n",
              "  </script>\n",
              "</div>\n",
              "    </div>\n",
              "  </div>\n"
            ]
          },
          "metadata": {},
          "execution_count": 8
        }
      ]
    },
    {
      "cell_type": "markdown",
      "source": [
        "**Checking for missing values**"
      ],
      "metadata": {
        "id": "PAnI7wozhVe5"
      }
    },
    {
      "cell_type": "code",
      "source": [
        "students_df.isnull().sum()"
      ],
      "metadata": {
        "colab": {
          "base_uri": "https://localhost:8080/"
        },
        "id": "PlUbswsdhaPY",
        "outputId": "9fb41807-157f-4d91-83d0-dd979ae953c7"
      },
      "execution_count": 9,
      "outputs": [
        {
          "output_type": "execute_result",
          "data": {
            "text/plain": [
              "Hours     0\n",
              "Scores    0\n",
              "dtype: int64"
            ]
          },
          "metadata": {},
          "execution_count": 9
        }
      ]
    },
    {
      "cell_type": "markdown",
      "source": [
        "Fortunately there are no null values in the dataset"
      ],
      "metadata": {
        "id": "GCC0-UIehqaH"
      }
    },
    {
      "cell_type": "markdown",
      "source": [
        "**Data Visualization**"
      ],
      "metadata": {
        "id": "mNwpMYm9iegH"
      }
    },
    {
      "cell_type": "code",
      "source": [
        "#ploting the distribution of scores\n",
        "students_df.plot(x='Hours', y='Scores', style= 'o')\n",
        "plt.title('Hours vs Percentage')\n",
        "plt.xlabel('Hours Studied')\n",
        "plt.ylabel('Percentage Score')\n",
        "plt.show()"
      ],
      "metadata": {
        "colab": {
          "base_uri": "https://localhost:8080/",
          "height": 472
        },
        "id": "qi8XRVUZhzGu",
        "outputId": "520bf3a4-26d3-4164-f294-c52fa5bd72fe"
      },
      "execution_count": 10,
      "outputs": [
        {
          "output_type": "display_data",
          "data": {
            "text/plain": [
              "<Figure size 640x480 with 1 Axes>"
            ],
            "image/png": "[encoded data removed]"
          },
          "metadata": {}
        }
      ]
    },
    {
      "cell_type": "markdown",
      "source": [
        "From the graph, we can clearly see that there is a positive linear relation between  number of hours studied and percentage of score."
      ],
      "metadata": {
        "id": "-7ua1q-VjwS4"
      }
    },
    {
      "cell_type": "code",
      "source": [
        "students_df.sort_values(['Hours'], axis=0, ascending= [True], inplace=True)\n",
        "students_df.plot.bar(x='Hours', y='Scores')"
      ],
      "metadata": {
        "colab": {
          "base_uri": "https://localhost:8080/",
          "height": 475
        },
        "id": "u1uxpWX8kLkm",
        "outputId": "229aa544-2679-408a-f49d-2b13605eab83"
      },
      "execution_count": 11,
      "outputs": [
        {
          "output_type": "execute_result",
          "data": {
            "text/plain": [
              "<Axes: xlabel='Hours'>"
            ]
          },
          "metadata": {},
          "execution_count": 11
        },
        {
          "output_type": "display_data",
          "data": {
            "text/plain": [
              "<Figure size 640x480 with 1 Axes>"
            ],
            "image/png": "[encoded data removed]"
          },
          "metadata": {}
        }
      ]
    },
    {
      "cell_type": "markdown",
      "source": [
        "**Checking for outliers using boxplot**"
      ],
      "metadata": {
        "id": "mchGSTrFlxAv"
      }
    },
    {
      "cell_type": "code",
      "source": [
        "students_df.boxplot(figsize=(10,8))"
      ],
      "metadata": {
        "colab": {
          "base_uri": "https://localhost:8080/",
          "height": 693
        },
        "id": "jIiuKbZglp5P",
        "outputId": "d40d0cee-6641-4447-c509-e2ea4dbbf237"
      },
      "execution_count": 12,
      "outputs": [
        {
          "output_type": "execute_result",
          "data": {
            "text/plain": [
              "<Axes: >"
            ]
          },
          "metadata": {},
          "execution_count": 12
        },
        {
          "output_type": "display_data",
          "data": {
            "text/plain": [
              "<Figure size 1000x800 with 1 Axes>"
            ],
            "image/png": "[encoded data removed]"
          },
          "metadata": {}
        }
      ]
    },
    {
      "cell_type": "markdown",
      "source": [
        "There are no outliers."
      ],
      "metadata": {
        "id": "JakvYweamB1Y"
      }
    },
    {
      "cell_type": "markdown",
      "source": [
        "Step 4: Data Preprocessing and Model Fitting\n",
        "\n",
        "This step involves division of data into \"attributes\"(inputs) and \"labels'(output)"
      ],
      "metadata": {
        "id": "3eO99FQDmWYA"
      }
    },
    {
      "cell_type": "code",
      "source": [
        "x = students_df.iloc[:, :-1].values\n",
        "y = students_df.iloc[:,1].values"
      ],
      "metadata": {
        "id": "awci7ds-mtO_"
      },
      "execution_count": 13,
      "outputs": []
    },
    {
      "cell_type": "markdown",
      "source": [
        "Step 5: Model Training"
      ],
      "metadata": {
        "id": "xIXnYg6GoJYb"
      }
    },
    {
      "cell_type": "markdown",
      "source": [
        "**Train and Test Split**\n",
        "\n",
        "Splitting the data into training and testing sets"
      ],
      "metadata": {
        "id": "NnqkuuF_oOOn"
      }
    },
    {
      "cell_type": "code",
      "source": [
        "from sklearn.model_selection import train_test_split\n",
        "x_train, x_test, y_train, y_test = train_test_split(x,y, test_size=0.2, random_state=0)"
      ],
      "metadata": {
        "id": "15T380qHoFdz"
      },
      "execution_count": 14,
      "outputs": []
    },
    {
      "cell_type": "markdown",
      "source": [
        "**Training the algorithm**"
      ],
      "metadata": {
        "id": "N4VbuLLLqS76"
      }
    },
    {
      "cell_type": "code",
      "source": [
        "from sklearn.linear_model import LinearRegression\n",
        "regressor = LinearRegression()\n",
        "regressor.fit(x_train, y_train)\n",
        "\n",
        "print(\"Training Complete\")"
      ],
      "metadata": {
        "colab": {
          "base_uri": "https://localhost:8080/"
        },
        "id": "hbztgr8_qOx8",
        "outputId": "fc7e56d0-e3d7-4f6f-ae8a-81fe8704e0ee"
      },
      "execution_count": 15,
      "outputs": [
        {
          "output_type": "stream",
          "name": "stdout",
          "text": [
            "Training Complete\n"
          ]
        }
      ]
    },
    {
      "cell_type": "markdown",
      "source": [
        "**Plotting the regression line**"
      ],
      "metadata": {
        "id": "ka3LU2mcHI6F"
      }
    },
    {
      "cell_type": "code",
      "source": [
        "from re import X\n",
        "regression_line = regressor.coef_*x+ regressor.intercept_\n",
        "\n",
        "#plotting for the test data\n",
        "plt.scatter(x, y)\n",
        "plt.plot(x, regression_line,color=\"red\");\n",
        "plt.show()"
      ],
      "metadata": {
        "colab": {
          "base_uri": "https://localhost:8080/",
          "height": 430
        },
        "id": "R7B2Vh5TDZU_",
        "outputId": "a681cb76-f9e0-455b-9756-0bdc19c7915d"
      },
      "execution_count": 16,
      "outputs": [
        {
          "output_type": "display_data",
          "data": {
            "text/plain": [
              "<Figure size 640x480 with 1 Axes>"
            ],
            "image/png": "[encoded data removed]"
          },
          "metadata": {}
        }
      ]
    },
    {
      "cell_type": "markdown",
      "source": [
        "**Making Predictions**\n",
        "\n",
        "Now that we have trained our algorithm, it's time to test the model by making some predictions"
      ],
      "metadata": {
        "id": "-XkzlxbUFxr2"
      }
    },
    {
      "cell_type": "code",
      "source": [
        "#Testing data - In Hours\n",
        "print(x_test)\n",
        "\n"
      ],
      "metadata": {
        "colab": {
          "base_uri": "https://localhost:8080/"
        },
        "id": "RTnuXBQBGMaC",
        "outputId": "21015b99-b53f-492c-a9db-477e32bebd3a"
      },
      "execution_count": 21,
      "outputs": [
        {
          "output_type": "stream",
          "name": "stdout",
          "text": [
            "[[2.7]\n",
            " [1.9]\n",
            " [7.7]\n",
            " [6.1]\n",
            " [4.5]]\n"
          ]
        }
      ]
    },
    {
      "cell_type": "code",
      "source": [
        "# predicting the scores\n",
        "y_pred = regressor.predict(x_test)\n",
        "print(y_pred)\n"
      ],
      "metadata": {
        "colab": {
          "base_uri": "https://localhost:8080/"
        },
        "id": "QGkMQKR_HBun",
        "outputId": "898a191f-bf08-4cbf-ca50-d3a53706fb78"
      },
      "execution_count": 22,
      "outputs": [
        {
          "output_type": "stream",
          "name": "stdout",
          "text": [
            "[28.6177145  20.88803334 76.92822173 61.46885942 46.0094971 ]\n"
          ]
        }
      ]
    },
    {
      "cell_type": "code",
      "source": [
        "#Comparing Actual vs Predicted Scores\n",
        "df= pd.DataFrame({'Actual': y_test, 'Predicted': y_pred})\n",
        "print(\"Actual score vs Predicted Score:\\n\",df)"
      ],
      "metadata": {
        "colab": {
          "base_uri": "https://localhost:8080/"
        },
        "id": "c9oFKVo_Oykm",
        "outputId": "9797b251-ee7a-4dd3-b27f-5d4263e3ada1"
      },
      "execution_count": 23,
      "outputs": [
        {
          "output_type": "stream",
          "name": "stdout",
          "text": [
            "Actual score vs Predicted Score:\n",
            "    Actual  Predicted\n",
            "0      30  28.617714\n",
            "1      24  20.888033\n",
            "2      85  76.928222\n",
            "3      67  61.468859\n",
            "4      41  46.009497\n"
          ]
        }
      ]
    },
    {
      "cell_type": "markdown",
      "source": [
        "**Checking Model Accuracy**"
      ],
      "metadata": {
        "id": "Y2xYWAcHR0zr"
      }
    },
    {
      "cell_type": "code",
      "source": [
        "Model_accuracy= regressor.score(x_train,y_train)\n",
        "print(\"Model Accuracy is :\", Model_accuracy)"
      ],
      "metadata": {
        "colab": {
          "base_uri": "https://localhost:8080/"
        },
        "id": "mJdG8MksR-Ez",
        "outputId": "4a7f5f82-1b3f-465b-80af-5a2b3cfe7731"
      },
      "execution_count": 25,
      "outputs": [
        {
          "output_type": "stream",
          "name": "stdout",
          "text": [
            "Model Accuracy is : 0.9526908407020198\n"
          ]
        }
      ]
    },
    {
      "cell_type": "markdown",
      "source": [
        "**Predicting the score of a student who studies 9.25hrs/day**"
      ],
      "metadata": {
        "id": "4WqVwK5xSvi_"
      }
    },
    {
      "cell_type": "code",
      "source": [
        "#testing the model with our own data\n",
        "hours=9.25\n",
        "test=np.array([hours])\n",
        "test=test.reshape(-1,1)\n",
        "our_pred= regressor.predict(test)\n",
        "print(\"The predicted score of a student who studies 9.25hrs/day is:\", our_pred)"
      ],
      "metadata": {
        "colab": {
          "base_uri": "https://localhost:8080/"
        },
        "id": "pGZb3M_WSVvQ",
        "outputId": "1218f6e0-9cd3-493f-fc6c-e67275cad20d"
      },
      "execution_count": 27,
      "outputs": [
        {
          "output_type": "stream",
          "name": "stdout",
          "text": [
            "The predicted score of a student who studies 9.25hrs/day is: [91.90447898]\n"
          ]
        }
      ]
    },
    {
      "cell_type": "markdown",
      "source": [
        "**Evaluating the Model Performance**"
      ],
      "metadata": {
        "id": "3jhCgT3jW3DP"
      }
    },
    {
      "cell_type": "code",
      "source": [
        "#Calculating the Root Mean Squared Error\n",
        "from sklearn import metrics\n",
        "import math\n",
        "MSE= metrics.mean_squared_error(y_test,y_pred)\n",
        "RMSE=math.sqrt(MSE)\n",
        "print(\"Root Mean Squared Error:\\n\",RMSE)"
      ],
      "metadata": {
        "colab": {
          "base_uri": "https://localhost:8080/"
        },
        "id": "YbheBQS2WDVx",
        "outputId": "6f6f51f9-c3f6-4f78-d7d7-f41a91e181ba"
      },
      "execution_count": 28,
      "outputs": [
        {
          "output_type": "stream",
          "name": "stdout",
          "text": [
            "Root Mean Squared Error:\n",
            " 5.14659560183947\n"
          ]
        }
      ]
    },
    {
      "cell_type": "code",
      "source": [
        "#Calculating the Mean Squared Error\n",
        "print(\" Mean Squared Error:\\n\",metrics.mean_squared_error(y_test,y_pred))"
      ],
      "metadata": {
        "colab": {
          "base_uri": "https://localhost:8080/"
        },
        "id": "aiFfT2s3ZdCC",
        "outputId": "786bff93-9ea4-4505-9f59-c01c24997d5b"
      },
      "execution_count": 30,
      "outputs": [
        {
          "output_type": "stream",
          "name": "stdout",
          "text": [
            " Mean Squared Error:\n",
            " 26.48744628887338\n"
          ]
        }
      ]
    },
    {
      "cell_type": "code",
      "source": [
        "#calculating the Mean Absolute Error\n",
        "print(\"Mean Absolute Error:\\n\",metrics.mean_absolute_error(y_test,y_pred))"
      ],
      "metadata": {
        "colab": {
          "base_uri": "https://localhost:8080/"
        },
        "id": "A44KcuXXaLls",
        "outputId": "cf6e3f5a-3aa8-42e2-86a5-cee48985688d"
      },
      "execution_count": 31,
      "outputs": [
        {
          "output_type": "stream",
          "name": "stdout",
          "text": [
            "Mean Absolute Error:\n",
            " 4.621333622532767\n"
          ]
        }
      ]
    },
    {
      "cell_type": "code",
      "source": [
        "#calculating R^2 value\n",
        "print('R^2:\\n',metrics.r2_score(y_test, y_pred))"
      ],
      "metadata": {
        "colab": {
          "base_uri": "https://localhost:8080/"
        },
        "id": "YpkWdSECakwR",
        "outputId": "21936624-21d0-4234-c50c-fdaa282acc14"
      },
      "execution_count": 32,
      "outputs": [
        {
          "output_type": "stream",
          "name": "stdout",
          "text": [
            "R^2:\n",
            " 0.9503831741928792\n"
          ]
        }
      ]
    },
    {
      "cell_type": "markdown",
      "source": [
        "The value of R^2 gives the score of model fit and in thhis case we have R^2 = 0.9503831741928792, which is actually a great score for this model."
      ],
      "metadata": {
        "id": "F7Q7gu05bPgg"
      }
    }
  ]
}